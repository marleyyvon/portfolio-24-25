{
 "cells": [
  {
   "cell_type": "markdown",
   "id": "b6df16ee",
   "metadata": {},
   "source": [
    "# 01 Model: Multivariate Analysis of Caregiver Health Outcomes\n",
    "\n",
    "- Loads the filtered CGUS 2020 data and variable labels.\n",
    "- Cleans and filters the data to include only completed caregivers (status=1, year=2019).\n",
    "- Provides descriptive statistics for key variables.\n",
    "- Generates exploratory plots with readable labels.\n",
    "- Fits multivariate regression models:\n",
    "  1. OLS for Physical Strain (Q35)\n",
    "  2. OLS for Emotional Stress (Q36)\n",
    "  3. Logistic regression for Isolation (m5c)\n",
    "- Displays regression tables with coefficients, standard errors, p-values, and confidence intervals"
   ]
  },
  {
   "cell_type": "code",
   "execution_count": null,
   "id": "63531948",
   "metadata": {},
   "outputs": [],
   "source": [
    "import sys\n",
    "import pandas as pd\n",
    "import numpy as np\n",
    "import statsmodels.api as sm\n",
    "import statsmodels.formula.api as smf\n",
    "import matplotlib.pyplot as plt\n",
    "from statsmodels.stats.outliers_influence import variance_inflation_factor\n",
    "\n",
    "print(f\"Python: {sys.version}\")\n",
    "print(f\"pandas: {pd.__version__}\")\n",
    "print(f\"statsmodels: {sm.__version__}\")\n",
    "print(f\"matplotlib: {plt.matplotlib.__version__}\")"
   ]
  },
  {
   "cell_type": "code",
   "execution_count": null,
   "id": "d8d37eaf",
   "metadata": {},
   "outputs": [],
   "source": [
    "from pathlib import Path\n",
    "# Determine project root by checking for 'outputs' in cwd or parent\n",
    "cwd = Path().resolve()\n",
    "if (cwd / 'outputs').exists():\n",
    "    root = cwd\n",
    "elif (cwd.parent / 'outputs').exists():\n",
    "    root = cwd.parent\n",
    "else:\n",
    "    raise FileNotFoundError(f\"Cannot find 'outputs' under {cwd} or {cwd.parent}\")\n",
    "\n",
    "print(f\"Using project root: {root}\")\n",
    "df = pd.read_csv(root / 'outputs' / 'filtered_caregivers_2020.csv')\n",
    "labels = pd.read_csv(root / 'outputs' / 'CGUS2020_variable_labels.csv')\n",
    "labels.columns = labels.columns.str.strip()\n",
    "label_map = dict(zip(labels['Variable'], labels['Description']))\n",
    "\n",
    "# Display first rows and shape\n",
    "df.head(), df.shape"
   ]
  },
  {
   "cell_type": "markdown",
   "id": "c665b448",
   "metadata": {},
   "source": [
    "## 2. Data Cleaning & Filtering"
   ]
  },
  {
   "cell_type": "code",
   "execution_count": null,
   "id": "428c74e4",
   "metadata": {},
   "outputs": [],
   "source": [
    "df = df[(df['status'] == 1) & (df['year'] == 2019)].copy()\n",
    "cols = [\n",
    "    'Q35', 'Q36', 'm5c',\n",
    "    'agecgcat', 'sexcg', 'raceCG', 'hispcg',\n",
    "    'HOURS', 'burden', 'adls', 'iadls',\n",
    "    'q23g', 'q23i', 'q23j'\n",
    "]\n",
    "df = df[cols].dropna()\n",
    "df['m5c'] = df['m5c'].apply(lambda x: 1 if x in [1, '1', True] else 0)\n",
    "df.shape"
   ]
  },
  {
   "cell_type": "markdown",
   "id": "acda752c",
   "metadata": {},
   "source": [
    "## 3. Descriptive Statistics"
   ]
  },
  {
   "cell_type": "code",
   "execution_count": null,
   "id": "9f3a5dc8",
   "metadata": {},
   "outputs": [],
   "source": [
    "desc_table = df[['HOURS','burden','adls','iadls','Q35','Q36']].describe().T[['mean','std','min','max']]\n",
    "desc_table"
   ]
  },
  {
   "cell_type": "markdown",
   "id": "f9665b26",
   "metadata": {},
   "source": [
    "## 4. Exploratory Plots\n",
    "\n",
    "### 4.1 Physical Strain (Q35) by Burden Level"
   ]
  },
  {
   "cell_type": "code",
   "execution_count": null,
   "id": "708b2560",
   "metadata": {},
   "outputs": [],
   "source": [
    "x_label = label_map.get('burden', 'burden')\n",
    "y_label = label_map.get('Q35', 'Physical Strain')\n",
    "outdir = root / 'outputs' / 'model1'\n",
    "outdir.mkdir(parents=True, exist_ok=True)\n",
    "fig, ax = plt.subplots(figsize=(8,5))\n",
    "df.boxplot(column='Q35', by='burden', ax=ax, patch_artist=True,\n",
    "           boxprops=dict(facecolor='#8FBBD9'))\n",
    "plt.suptitle('')\n",
    "ax.set_title('Physical Strain by Caregiver Burden', fontsize=14)\n",
    "ax.set_xlabel(x_label + ' (1-5)', fontsize=12)\n",
    "ax.set_ylabel(y_label + ' (1-5)', fontsize=12)\n",
    "ax.tick_params(axis='both', labelsize=10)\n",
    "for i, level in enumerate(sorted(df['burden'].unique()), start=1):\n",
    "    count = df[df['burden'] == level].shape[0]\n",
    "    ax.text(i, df['Q35'].max() + 0.3, f'N={count}', ha='center', fontsize=10)\n",
    "fig.tight_layout()\n",
    "fig.savefig(outdir / 'box_Q35_by_burden.png', dpi=300)\n",
    "plt.show()"
   ]
  },
  {
   "cell_type": "markdown",
   "id": "1f413540",
   "metadata": {},
   "source": [
    "### 4.2 Isolation Rate (m5c) by Digital Advocacy (q23g)"
   ]
  },
  {
   "cell_type": "code",
   "execution_count": null,
   "id": "8fd2293c",
   "metadata": {},
   "outputs": [],
   "source": [
    "adv_map = {1: 'No Advocacy', 2: 'Advocacy', 4: 'Missing/Refused'}\n",
    "df['advocacy_label'] = df['q23g'].map(adv_map)\n",
    "fig2, ax2 = plt.subplots(figsize=(8,5))\n",
    "df.groupby('advocacy_label')['m5c'].mean().plot(kind='bar', color='#D98F8F', ax=ax2)\n",
    "ax2.set_title('Isolation Rate by Digital Advocacy', fontsize=14)\n",
    "ax2.set_xlabel('Advocacy Status', fontsize=12)\n",
    "ax2.set_ylabel('Proportion Feeling Alone', fontsize=12)\n",
    "ax2.tick_params(axis='x', rotation=45, labelsize=10)\n",
    "ax2.tick_params(axis='y', labelsize=10)\n",
    "fig2.tight_layout()\n",
    "fig2.savefig(outdir / 'bar_iso_by_advocacy.png', dpi=300)\n",
    "plt.show()"
   ]
  },
  {
   "cell_type": "markdown",
   "id": "a78a7617",
   "metadata": {},
   "source": [
    "## 5. Regression Modeling\n",
    "\n",
    "### 5.1 OLS: Physical Strain (Q35)"
   ]
  },
  {
   "cell_type": "code",
   "execution_count": null,
   "id": "2b22511c",
   "metadata": {},
   "outputs": [],
   "source": [
    "mod_phys = smf.ols(\n",
    "    'Q35 ~ C(agecgcat) + C(sexcg) + C(raceCG) + C(hispcg) + HOURS + burden + adls + iadls + q23g + q23i + q23j',\n",
    "    data=df\n",
    ").fit()\n",
    "mod_phys_params = mod_phys.params.to_frame('coef')\n",
    "mod_phys_params['se'] = mod_phys.bse\n",
    "mod_phys_params['pvalue'] = mod_phys.pvalues\n",
    "mod_phys_params['ci_lower'] = mod_phys.conf_int()[0]\n",
    "mod_phys_params['ci_upper'] = mod_phys.conf_int()[1]\n",
    "mod_phys_params = mod_phys_params.round(3)\n",
    "mod_phys_params"
   ]
  },
  {
   "cell_type": "markdown",
   "id": "d1a8008d",
   "metadata": {},
   "source": [
    "#### 5.1.1 Model Diagnostics for Physical Strain"
   ]
  },
  {
   "cell_type": "code",
   "execution_count": null,
   "id": "999a4a86",
   "metadata": {},
   "outputs": [],
   "source": [
    "resid = mod_phys.resid\n",
    "fitted = mod_phys.fittedvalues\n",
    "fig, ax = plt.subplots(figsize=(6,4))\n",
    "ax.scatter(fitted, resid, alpha=0.3)\n",
    "ax.axhline(0, color='k', linestyle='--')\n",
    "ax.set_title('Residuals vs Fitted (Physical Strain)')\n",
    "ax.set_xlabel('Fitted Values')\n",
    "ax.set_ylabel('Residuals')\n",
    "fig.tight_layout()\n",
    "fig.savefig(outdir / 'resid_fitted_phys.png', dpi=300)\n",
    "plt.show()\n",
    "\n",
    "import scipy.stats as stats\n",
    "fig, ax = plt.subplots(figsize=(6,4))\n",
    "stats.probplot(resid, dist='norm', plot=ax)\n",
    "ax.set_title('Normal Q-Q Plot (Physical Strain)')\n",
    "fig.tight_layout()\n",
    "fig.savefig(outdir / 'qqplot_phys.png', dpi=300)\n",
    "plt.show()\n",
    "\n",
    "X = df[['HOURS','burden','adls','iadls','q23g','q23i','q23j']]\n",
    "X = sm.add_constant(X)\n",
    "vif_data = pd.DataFrame({\n",
    "    'feature': X.columns,\n",
    "    'VIF': [variance_inflation_factor(X.values, i) for i in range(X.shape[1])]\n",
    "})\n",
    "vif_data"
   ]
  },
  {
   "cell_type": "markdown",
   "id": "9fd371f2",
   "metadata": {},
   "source": [
    "### 5.2 OLS: Emotional Stress (Q36)"
   ]
  },
  {
   "cell_type": "code",
   "execution_count": null,
   "id": "7e42478b",
   "metadata": {},
   "outputs": [],
   "source": [
    "mod_emo = smf.ols(\n",
    "    'Q36 ~ C(agecgcat) + C(sexcg) + C(raceCG) + C(hispcg) + HOURS + burden + adls + iadls + q23g + q23i + q23j',\n",
    "    data=df\n",
    ").fit()\n",
    "mod_emo_params = mod_emo.params.to_frame('coef')\n",
    "mod_emo_params['se'] = mod_emo.bse\n",
    "mod_emo_params['pvalue'] = mod_emo.pvalues\n",
    "mod_emo_params['ci_lower'] = mod_emo.conf_int()[0]\n",
    "mod_emo_params['ci_upper'] = mod_emo.conf_int()[1]\n",
    "mod_emo_params = mod_emo_params.round(3)\n",
    "mod_emo_params"
   ]
  },
  {
   "cell_type": "markdown",
   "id": "db2b83c9",
   "metadata": {},
   "source": [
    "#### 5.2.1 Model Diagnostics for Emotional Stress"
   ]
  },
  {
   "cell_type": "code",
   "execution_count": null,
   "id": "44419a4e",
   "metadata": {},
   "outputs": [],
   "source": [
    "resid2 = mod_emo.resid\n",
    "fitted2 = mod_emo.fittedvalues\n",
    "fig, ax = plt.subplots(figsize=(6,4))\n",
    "ax.scatter(fitted2, resid2, alpha=0.3)\n",
    "ax.axhline(0, color='k', linestyle='--')\n",
    "ax.set_title('Residuals vs Fitted (Emotional Stress)')\n",
    "ax.set_xlabel('Fitted Values')\n",
    "ax.set_ylabel('Residuals')\n",
    "fig.tight_layout()\n",
    "fig.savefig(outdir / 'resid_fitted_emo.png', dpi=300)\n",
    "plt.show()\n",
    "\n",
    "fig, ax = plt.subplots(figsize=(6,4))\n",
    "stats.probplot(resid2, dist='norm', plot=ax)\n",
    "ax.set_title('Normal Q-Q Plot (Emotional Stress)')\n",
    "fig.tight_layout()\n",
    "fig.savefig(outdir / 'qqplot_emo.png', dpi=300)\n",
    "plt.show()"
   ]
  },
  {
   "cell_type": "markdown",
   "id": "24e25342",
   "metadata": {},
   "source": [
    "### 5.3 Logistic Regression: Isolation (m5c)"
   ]
  },
  {
   "cell_type": "code",
   "execution_count": null,
   "id": "f0fb38f8",
   "metadata": {},
   "outputs": [],
   "source": [
    "mod_iso = smf.logit(\n",
    "    'm5c ~ C(agecgcat) + C(sexcg) + C(raceCG) + C(hispcg) + HOURS + burden + adls + iadls + q23g + q23i + q23j',\n",
    "    data=df\n",
    ").fit()\n",
    "logit_df = pd.DataFrame({\n",
    "    'coef': mod_iso.params,\n",
    "    'se': mod_iso.bse,\n",
    "    'pvalue': mod_iso.pvalues,\n",
    "    'ci_lower': mod_iso.conf_int()[0],\n",
    "    'ci_upper': mod_iso.conf_int()[1],\n",
    "})\n",
    "logit_df['OR'] = np.exp(logit_df['coef'])\n",
    "logit_df['OR_ci_lower'] = np.exp(logit_df['ci_lower'])\n",
    "logit_df['OR_ci_upper'] = np.exp(logit_df['ci_upper'])\n",
    "logit_df = logit_df[['coef','se','pvalue','ci_lower','ci_upper','OR','OR_ci_lower','OR_ci_upper']].round(3)\n",
    "logit_df"
   ]
  },
  {
   "cell_type": "markdown",
   "id": "bbc0f863",
   "metadata": {},
   "source": [
    "#### 5.3.1 Diagnostics: ROC Curve for Isolation Model"
   ]
  },
  {
   "cell_type": "code",
   "execution_count": null,
   "id": "58be50f9",
   "metadata": {},
   "outputs": [],
   "source": [
    "from sklearn.metrics import roc_curve, auc\n",
    "y_true = df['m5c']\n",
    "y_pred_prob = mod_iso.predict()\n",
    "fpr, tpr, _ = roc_curve(y_true, y_pred_prob)\n",
    "roc_auc = auc(fpr, tpr)\n",
    "fig, ax = plt.subplots(figsize=(6,5))\n",
    "ax.plot(fpr, tpr, label=f'AUC = {roc_auc:.2f}', color='#4CAF50')\n",
    "ax.plot([0,1],[0,1],'--', color='gray')\n",
    "ax.set_title('ROC Curve: Isolation Model', fontsize=14)\n",
    "ax.set_xlabel('False Positive Rate', fontsize=12)\n",
    "ax.set_ylabel('True Positive Rate', fontsize=12)\n",
    "ax.legend(loc='lower right')\n",
    "fig.tight_layout()\n",
    "fig.savefig(outdir / 'roc_isolation.png', dpi=300)\n",
    "plt.show()"
   ]
  },
  {
   "cell_type": "markdown",
   "id": "377d7bc1",
   "metadata": {},
   "source": [
    "## 6. Results"
   ]
  },
  {
   "cell_type": "code",
   "execution_count": null,
   "id": "56834451",
   "metadata": {},
   "outputs": [],
   "source": [
    "mod_phys_params.to_csv(outdir / 'phys_strain_coefs.csv')\n",
    "mod_emo_params.to_csv(outdir / 'emo_stress_coefs.csv')\n",
    "logit_df.to_csv(outdir / 'isolation_model_coefs.csv')\n",
    "desc_table.to_csv(outdir / 'descriptive_stats.csv')\n",
    "print('Saved all tables and plots to', outdir)"
   ]
  }
 ],
 "metadata": {
  "language_info": {
   "name": "python"
  }
 },
 "nbformat": 4,
 "nbformat_minor": 5
}
